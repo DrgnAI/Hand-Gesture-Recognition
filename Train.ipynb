{
 "cells": [
  {
   "cell_type": "code",
   "execution_count": 1,
   "id": "e802e539",
   "metadata": {},
   "outputs": [
    {
     "name": "stderr",
     "output_type": "stream",
     "text": [
      "Using TensorFlow backend.\n"
     ]
    }
   ],
   "source": [
    "import os\n",
    "from utils import mkdirs\n",
    "import image as img\n",
    "from resnet_model import Resnet3DBuilder\n",
    "from keras.optimizers import SGD\n",
    "from keras.callbacks import ModelCheckpoint\n",
    "from HistoryGraph import HistoryGraph\n",
    "from math import ceil"
   ]
  },
  {
   "cell_type": "code",
   "execution_count": 3,
   "id": "05d9d2e6",
   "metadata": {},
   "outputs": [],
   "source": [
    "target_size = (64,96)\n",
    "nb_frames = 16\n",
    "skip = 1\n",
    "nb_classes = 27\n",
    "batch_size = 64\n",
    "input_shape = (nb_frames, ) + target_size + (3,)"
   ]
  },
  {
   "cell_type": "code",
   "execution_count": 4,
   "id": "a6749930",
   "metadata": {},
   "outputs": [],
   "source": [
    "workers = 8\n",
    "use_multiprocessing = False\n",
    "max_queue_size = 20"
   ]
  },
  {
   "cell_type": "code",
   "execution_count": 5,
   "id": "e52726f7",
   "metadata": {},
   "outputs": [],
   "source": [
    "import pandas as pd\n",
    "import numpy as np\n",
    "\n",
    "class DataLoader():\n",
    "    def __init__(self, path_vid, path_labels, path_train=None, path_val=None, path_test=None):\n",
    "        self.path_vid = path_vid\n",
    "        self.path_labels = path_labels\n",
    "        self.path_train = path_train\n",
    "        self.path_val = path_val\n",
    "        self.path_test = path_test\n",
    "        self.get_labels(path_labels)\n",
    "        \n",
    "        if self.path_train:\n",
    "            self.train_df = self.load_video_labels(self.path_train)\n",
    "        if self.path_val:\n",
    "            self.val_df = self.load_video_labels(self.path_val)\n",
    "        if self.path_test:\n",
    "            self.test_df = self.load_video_labels(self.path_test, mode=\"input\")\n",
    "    \n",
    "    \n",
    "    def get_labels(self, path_labels):\n",
    "        self.labels_df = pd.read_csv(path_labels, names=['label'])\n",
    "        #extract labels from dataframe\n",
    "        self.labels = [str(label[0]) for label in self.labels_df.values]\n",
    "        #print(self.labels)\n",
    "        self.n_labels = len(self.labels)\n",
    "        #print(self.n_labels)\n",
    "        #create dictionaries to convert label to int and backwards\n",
    "        self.label_to_int = dict(zip(self.labels, range(self.n_labels)))\n",
    "        #print(self.label_to_int)\n",
    "        self.int_to_labels = dict(enumerate(self.labels))\n",
    "        #print(self.int_to_labels)\n",
    "\n",
    "        \n",
    "\n",
    "\n",
    "\n",
    "\n",
    "    def load_video_labels(self, path_subset, mode=\"label\"):\n",
    "        if mode == \"input\":\n",
    "            # For test.csv, which has only video IDs\n",
    "            df = pd.read_csv(path_subset, names=[\"video_id\"])\n",
    "        elif mode == \"label\":\n",
    "            # For train.csv, validation.csv, and test-answers.csv, which have video IDs and labels\n",
    "            df = pd.read_csv(path_subset, sep=';', names=[\"video_id\", \"label\"])\n",
    "            df = df[df.label.isin(self.labels)]\n",
    "        \n",
    "        #print(df)\n",
    "        return df"
   ]
  },
  {
   "cell_type": "code",
   "execution_count": 6,
   "id": "fa2451d3",
   "metadata": {},
   "outputs": [],
   "source": [
    "data_root = r\"C:\\Users\\Dawud Iqbal\\Documents\\Final Project\\Final Project\\Implementation 2\\Dataset\"\n",
    "csv_labels = r\"C:\\Users\\Dawud Iqbal\\Documents\\Final Project\\Final Project\\Implementation 2\\Dataset\\labels.csv\"\n",
    "csv_train = r\"C:\\Users\\Dawud Iqbal\\Documents\\Final Project\\Final Project\\Implementation 2\\Dataset\\train.csv\"\n",
    "csv_val = r\"C:\\Users\\Dawud Iqbal\\Documents\\Final Project\\Final Project\\Implementation 2\\Dataset\\validation.csv\"\n",
    "csv_test = r\"C:\\Users\\Dawud Iqbal\\Documents\\Final Project\\Final Project\\Implementation 2\\Dataset\\test.csv\"\n",
    "data_vid = r\"C:\\Users\\Dawud Iqbal\\Documents\\Final Project\\Final Project\\Implementation 2\\Dataset\\videos\"\n",
    "model_name = 'resnet_3d_model'\n",
    "data_model = r\"C:\\Users\\Dawud Iqbal\\Documents\\Final Project\\Final Project\\Implementation 2\\Dataset\\model\""
   ]
  },
  {
   "cell_type": "code",
   "execution_count": 7,
   "id": "a13d460d",
   "metadata": {},
   "outputs": [],
   "source": [
    "path_model = os.path.join(data_root, data_model, model_name)\n",
    "path_vid = os.path.join(data_root, data_vid)\n",
    "path_labels = os.path.join(data_root, csv_labels)\n",
    "path_train = os.path.join(data_root, csv_train)\n",
    "path_val = os.path.join(data_root, csv_val)\n",
    "path_test = os.path.join(data_root, csv_test)"
   ]
  },
  {
   "cell_type": "code",
   "execution_count": 8,
   "id": "c43f7b94",
   "metadata": {},
   "outputs": [],
   "source": [
    "data = DataLoader(path_vid, path_labels, path_train, path_val)\n",
    "mkdirs(path_model, 0o755)\n",
    "mkdirs(os.path.join(path_model, \"graphs\"), 0o755)"
   ]
  },
  {
   "cell_type": "code",
   "execution_count": 9,
   "id": "8e713a13",
   "metadata": {},
   "outputs": [
    {
     "name": "stdout",
     "output_type": "stream",
     "text": [
      "Found 118562 video folders belonging to 27 classes.\n",
      "Found 14787 video folders belonging to 27 classes.\n"
     ]
    }
   ],
   "source": [
    "gen = img.ImageDataGenerator()\n",
    "gen_train = gen.flow_video_from_dataframe(data.train_df, path_vid, path_classes = path_labels, x_col='video_id', y_col=\"label\", target_size=target_size, batch_size=batch_size,nb_frames = nb_frames, skip = skip, has_ext = True)\n",
    "gen_val = gen.flow_video_from_dataframe(data.val_df, path_vid, path_classes = path_labels, x_col='video_id', y_col=\"label\", target_size=target_size, batch_size=batch_size,nb_frames = nb_frames, skip = skip, has_ext = True)"
   ]
  },
  {
   "cell_type": "code",
   "execution_count": 10,
   "id": "d58dd5bf",
   "metadata": {},
   "outputs": [],
   "source": [
    "resnet_model = Resnet3DBuilder.build_resnet_101(input_shape, nb_classes, drop_rate = 0.5)\n",
    "optimizer = SGD(lr=0.01, momentum = 0.9, decay = 0.0001, nesterov=False)\n",
    "resnet_model.compile(optimizer = optimizer, loss=\"categorical_crossentropy\" , metrics=[\"accuracy\"])\n",
    "model_file = os.path.join(path_model, 'resnetmodel.hdf5')"
   ]
  },
  {
   "cell_type": "code",
   "execution_count": 11,
   "id": "5ecb7f2a",
   "metadata": {},
   "outputs": [],
   "source": [
    "model_checkpointer = ModelCheckpoint(model_file, monitor='val_acc', verbose=1, save_best_only=True, mode='max')"
   ]
  },
  {
   "cell_type": "code",
   "execution_count": 12,
   "id": "1382022e",
   "metadata": {},
   "outputs": [],
   "source": [
    "history_graph = HistoryGraph(model_path_name = os.path.join(path_model, \"graphs\"))"
   ]
  },
  {
   "cell_type": "code",
   "execution_count": 13,
   "id": "1d7f48a0",
   "metadata": {},
   "outputs": [],
   "source": [
    "nb_sample_train = data. train_df[\"video_id\"].size\n",
    "nb_sample_val = data.val_df[\"video_id\"].size"
   ]
  },
  {
   "cell_type": "code",
   "execution_count": null,
   "id": "4482e168",
   "metadata": {},
   "outputs": [],
   "source": [
    "resnet_model.fit_generator(\n",
    "    generator = gen_train,\n",
    "    steps_per_epoch=ceil(nb_sample_train/batch_size),\n",
    "    epochs=30,\n",
    "    validation_data=gen_val,\n",
    "    validation_steps=30,\n",
    "    shuffle=True,\n",
    "    verbose=1,\n",
    "    workers=workers,\n",
    "    max_queue_size = max_queue_size,\n",
    "    use_multiprocessing = use_multiprocessing,\n",
    "    callbacks = [model_checkpointer, history_graph])"
   ]
  },
  {
   "cell_type": "code",
   "execution_count": null,
   "id": "1bac3089",
   "metadata": {},
   "outputs": [],
   "source": []
  }
 ],
 "metadata": {
  "kernelspec": {
   "display_name": "Python 3 (ipykernel)",
   "language": "python",
   "name": "python3"
  },
  "language_info": {
   "codemirror_mode": {
    "name": "ipython",
    "version": 3
   },
   "file_extension": ".py",
   "mimetype": "text/x-python",
   "name": "python",
   "nbconvert_exporter": "python",
   "pygments_lexer": "ipython3",
   "version": "3.7.16"
  }
 },
 "nbformat": 4,
 "nbformat_minor": 5
}
