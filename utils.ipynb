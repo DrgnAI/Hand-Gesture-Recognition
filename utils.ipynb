{
 "cells": [
  {
   "cell_type": "code",
   "execution_count": 1,
   "id": "0f47dbbb",
   "metadata": {},
   "outputs": [],
   "source": [
    "import os"
   ]
  },
  {
   "cell_type": "code",
   "execution_count": null,
   "id": "0db9fd33",
   "metadata": {},
   "outputs": [],
   "source": [
    "def mkdirs(folder, permission):\n",
    "    if not os.path.exists(folder):\n",
    "        try:\n",
    "            original_umask = os.umask(0)\n",
    "            os.makedirs(folder, permission, exist_ok=True)\n",
    "        finally:\n",
    "            os.umask(original_umask)"
   ]
  }
 ],
 "metadata": {
  "kernelspec": {
   "display_name": "Python 3 (ipykernel)",
   "language": "python",
   "name": "python3"
  },
  "language_info": {
   "codemirror_mode": {
    "name": "ipython",
    "version": 3
   },
   "file_extension": ".py",
   "mimetype": "text/x-python",
   "name": "python",
   "nbconvert_exporter": "python",
   "pygments_lexer": "ipython3",
   "version": "3.7.16"
  }
 },
 "nbformat": 4,
 "nbformat_minor": 5
}
