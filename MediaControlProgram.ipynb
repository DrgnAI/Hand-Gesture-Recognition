{
 "cells": [
  {
   "cell_type": "code",
   "execution_count": 1,
   "id": "6008713e",
   "metadata": {},
   "outputs": [],
   "source": [
    "import cv2"
   ]
  },
  {
   "cell_type": "code",
   "execution_count": 2,
   "id": "37d18b20",
   "metadata": {},
   "outputs": [
    {
     "name": "stderr",
     "output_type": "stream",
     "text": [
      "Using TensorFlow backend.\n"
     ]
    }
   ],
   "source": [
    "from keras.models import load_model\n",
    "import keras\n",
    "import numpy as np\n",
    "import pandas as pd\n",
    "from keyboard import Keyboard"
   ]
  },
  {
   "cell_type": "code",
   "execution_count": 3,
   "id": "99586516",
   "metadata": {},
   "outputs": [],
   "source": [
    "model = load_model(r\"C:\\Users\\Dawud Iqbal\\Documents\\Final Project\\Final Project\\Implementation 2\\Dataset\\model\\resnetmodel.hdf5\")"
   ]
  },
  {
   "cell_type": "code",
   "execution_count": 4,
   "id": "001a43b3",
   "metadata": {},
   "outputs": [
    {
     "data": {
      "text/plain": [
       "True"
      ]
     },
     "execution_count": 4,
     "metadata": {},
     "output_type": "execute_result"
    }
   ],
   "source": [
    "vid = cv2.VideoCapture(0)\n",
    "vid.set(cv2.CAP_PROP_FRAME_WIDTH, 400)\n",
    "vid.set(cv2.CAP_PROP_FRAME_HEIGHT, 400)"
   ]
  },
  {
   "cell_type": "code",
   "execution_count": 5,
   "id": "78a9e387",
   "metadata": {},
   "outputs": [],
   "source": [
    "labels = pd.read_csv(r\"C:\\Users\\Dawud Iqbal\\Documents\\Final Project\\Final Project\\Implementation 2\\Dataset\\labels.csv\", header=None)"
   ]
  },
  {
   "cell_type": "code",
   "execution_count": 6,
   "id": "ad7da699",
   "metadata": {},
   "outputs": [],
   "source": [
    "actions_list = labels.iloc[:, 0].tolist()"
   ]
  },
  {
   "cell_type": "code",
   "execution_count": 7,
   "id": "22ed618c",
   "metadata": {},
   "outputs": [
    {
     "name": "stdout",
     "output_type": "stream",
     "text": [
      "Swiping Left\n"
     ]
    }
   ],
   "source": [
    "print(actions_list[0])"
   ]
  },
  {
   "cell_type": "code",
   "execution_count": 8,
   "id": "4c9d2286",
   "metadata": {},
   "outputs": [
    {
     "name": "stdout",
     "output_type": "stream",
     "text": [
      "0    No gesture\n",
      "Name: 25, dtype: object\n",
      "No gesture\n",
      "0    No gesture\n",
      "Name: 25, dtype: object\n",
      "No gesture\n",
      "0    No gesture\n",
      "Name: 25, dtype: object\n",
      "No gesture\n",
      "0    No gesture\n",
      "Name: 25, dtype: object\n",
      "No gesture\n",
      "0    Sliding Two Fingers Right\n",
      "Name: 7, dtype: object\n",
      "Sliding Two Fingers Right\n",
      "0    Swiping Left\n",
      "Name: 0, dtype: object\n",
      "Swiping Left\n",
      "0    Doing other things\n",
      "Name: 26, dtype: object\n",
      "Doing other things\n",
      "0    No gesture\n",
      "Name: 25, dtype: object\n",
      "No gesture\n",
      "0    Doing other things\n",
      "Name: 26, dtype: object\n",
      "Doing other things\n",
      "0    Doing other things\n",
      "Name: 26, dtype: object\n",
      "Doing other things\n",
      "0    Doing other things\n",
      "Name: 26, dtype: object\n",
      "Doing other things\n",
      "0    Doing other things\n",
      "Name: 26, dtype: object\n",
      "Doing other things\n",
      "0    Swiping Left\n",
      "Name: 0, dtype: object\n",
      "Swiping Left\n",
      "0    Doing other things\n",
      "Name: 26, dtype: object\n",
      "Doing other things\n",
      "0    Doing other things\n",
      "Name: 26, dtype: object\n",
      "Doing other things\n",
      "0    Sliding Two Fingers Down\n",
      "Name: 8, dtype: object\n",
      "Sliding Two Fingers Down\n",
      "0    Zooming Out With Two Fingers\n",
      "Name: 19, dtype: object\n",
      "Zooming Out With Two Fingers\n",
      "0    No gesture\n",
      "Name: 25, dtype: object\n",
      "No gesture\n",
      "0    No gesture\n",
      "Name: 25, dtype: object\n",
      "No gesture\n",
      "0    Doing other things\n",
      "Name: 26, dtype: object\n",
      "Doing other things\n",
      "0    Swiping Up\n",
      "Name: 3, dtype: object\n",
      "Swiping Up\n",
      "0    No gesture\n",
      "Name: 25, dtype: object\n",
      "No gesture\n",
      "0    Zooming In With Two Fingers\n",
      "Name: 18, dtype: object\n",
      "Zooming In With Two Fingers\n",
      "0    No gesture\n",
      "Name: 25, dtype: object\n",
      "No gesture\n",
      "0    Doing other things\n",
      "Name: 26, dtype: object\n",
      "Doing other things\n",
      "0    Swiping Down\n",
      "Name: 2, dtype: object\n",
      "Swiping Down\n",
      "0    No gesture\n",
      "Name: 25, dtype: object\n",
      "No gesture\n",
      "0    No gesture\n",
      "Name: 25, dtype: object\n",
      "No gesture\n",
      "0    No gesture\n",
      "Name: 25, dtype: object\n",
      "No gesture\n",
      "0    Doing other things\n",
      "Name: 26, dtype: object\n",
      "Doing other things\n",
      "0    Doing other things\n",
      "Name: 26, dtype: object\n",
      "Doing other things\n",
      "0    No gesture\n",
      "Name: 25, dtype: object\n",
      "No gesture\n",
      "0    Doing other things\n",
      "Name: 26, dtype: object\n",
      "Doing other things\n",
      "0    Doing other things\n",
      "Name: 26, dtype: object\n",
      "Doing other things\n",
      "0    No gesture\n",
      "Name: 25, dtype: object\n",
      "No gesture\n",
      "0    No gesture\n",
      "Name: 25, dtype: object\n",
      "No gesture\n",
      "0    Doing other things\n",
      "Name: 26, dtype: object\n",
      "Doing other things\n"
     ]
    }
   ],
   "source": [
    "buffer = []\n",
    "cls = []\n",
    "predicted_value = 0\n",
    "final_label = \"\"\n",
    "i = 1\n",
    "while(vid.isOpened()):\n",
    "    ret, frame = vid.read()\n",
    "    if ret:\n",
    "        image = cv2.resize(frame, (96,64))\n",
    "        image = image/255.0\n",
    "        buffer.append(image)\n",
    "        if(i%16 == 0):\n",
    "            buffer = np.expand_dims(buffer,0)\n",
    "            predicted_value = np.argmax(model.predict(buffer))\n",
    "            cls = labels.iloc[predicted_value]\n",
    "            print(cls)\n",
    "            print(cls.iloc[0])\n",
    "            final_label = actions_list[predicted_value]\n",
    "            if(predicted_value == 0):\n",
    "                Keyboard.key(Keyboard.VK_MEDIA_NEXT_TRACK)\n",
    "            elif (predicted_value == 1):\n",
    "                Keyboard.key(Keyboard.VK_MEDIA_PREV_TRACK)\n",
    "            elif (predicted_value == 2):\n",
    "                Keyboard.key(Keyboard.VK_VOLUME_DOWN)\n",
    "            elif (predicted_value == 3):\n",
    "                Keyboard.key(Keyboard.VK_VOLUME_UP)\n",
    "            elif (predicted_value == 20):\n",
    "                Keyboard.key(Keyboard.VK_MEDIA_PLAY_PAUSE)\n",
    "                \n",
    "            cv2.imshow('frame', frame)\n",
    "            buffer = []\n",
    "        i+=1\n",
    "        text = \"activity: {}\".format(final_label)\n",
    "        cv2.putText(frame, text, (20, 35), cv2.FONT_HERSHEY_SIMPLEX, 1.15, (0, 255, 0), 5)\n",
    "        cv2.imshow('frame', frame)\n",
    "    if cv2.waitKey(1) & 0xFF == ord('q'):\n",
    "        break\n",
    "vid.release()\n",
    "cv2.destroyAllWindows()"
   ]
  },
  {
   "cell_type": "code",
   "execution_count": null,
   "id": "9dbe694c",
   "metadata": {},
   "outputs": [],
   "source": []
  },
  {
   "cell_type": "code",
   "execution_count": null,
   "id": "ff3f1363",
   "metadata": {},
   "outputs": [],
   "source": []
  }
 ],
 "metadata": {
  "kernelspec": {
   "display_name": "Python 3 (ipykernel)",
   "language": "python",
   "name": "python3"
  },
  "language_info": {
   "codemirror_mode": {
    "name": "ipython",
    "version": 3
   },
   "file_extension": ".py",
   "mimetype": "text/x-python",
   "name": "python",
   "nbconvert_exporter": "python",
   "pygments_lexer": "ipython3",
   "version": "3.7.16"
  }
 },
 "nbformat": 4,
 "nbformat_minor": 5
}
