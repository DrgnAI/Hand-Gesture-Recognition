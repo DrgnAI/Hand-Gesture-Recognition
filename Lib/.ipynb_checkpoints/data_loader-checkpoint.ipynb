{
 "cells": [
  {
   "cell_type": "code",
   "execution_count": 2,
   "id": "67898cac",
   "metadata": {},
   "outputs": [],
   "source": [
    "import pandas as pd\n",
    "import numpy as np"
   ]
  },
  {
   "cell_type": "code",
   "execution_count": 1,
   "id": "51351980",
   "metadata": {},
   "outputs": [],
   "source": [
    "class DataLoader():\n",
    "    def __init__(self, path_vid, path_labels, path_train=None, path_val=None, path_test=None):\n",
    "        self.path_vid = path_vid\n",
    "        self.path_labels = path_labels\n",
    "        self.path_train = path_train\n",
    "        self.path_val = path_val\n",
    "        self.path_test = path_test\n",
    "        self.get_labels(path_labels)\n",
    "        \n",
    "        if self.path_train:\n",
    "            self.train_df = self.load_video_labels(self.path_train)\n",
    "        if self.path_val:\n",
    "            self.val_df = self.load_video_labels(self.path_val)\n",
    "        if self.path_test:\n",
    "            self.test_df = self.load_video_labels(self.path_test, mode=\"input\")\n",
    "    \n",
    "    \n",
    "    def get_labels(self, path_labels):\n",
    "        self.labels_df = pd.read_csv(path_labels, names=['label'])\n",
    "        #extract labels from dataframe\n",
    "        self.labels = [str(label[0]) for label in self.labels_df.values]\n",
    "        self.n_labels = len(self.labels)\n",
    "        #create dictionaries to convert label to int and backwards\n",
    "        self.label_to_int = dict(zip(self.labels, range(self.n_labels)))\n",
    "        self.int_to_labels = dict(enumerate(self.labels))\n",
    "\n",
    "        \n",
    "\n",
    "\n",
    "\n",
    "\n",
    "    def load_video_labels(self, path_subset, mode=\"label\"):\n",
    "        if mode== \"input\":\n",
    "            names=[\"video_id\"]\n",
    "        elif mode == \"label\":\n",
    "            names == [\"video_id\", \"label\"]\n",
    "        \n",
    "        df = pd.read_csv(path_subset, sep=';', names=names)\n",
    "\n",
    "        if mode == 'label':\n",
    "            df = df[df.label.isin(self.labels)]\n",
    "\n",
    "        return df\n",
    "            \n"
   ]
  },
  {
   "cell_type": "code",
   "execution_count": null,
   "id": "bf32c560",
   "metadata": {},
   "outputs": [],
   "source": []
  }
 ],
 "metadata": {
  "kernelspec": {
   "display_name": "Python 3 (ipykernel)",
   "language": "python",
   "name": "python3"
  },
  "language_info": {
   "codemirror_mode": {
    "name": "ipython",
    "version": 3
   },
   "file_extension": ".py",
   "mimetype": "text/x-python",
   "name": "python",
   "nbconvert_exporter": "python",
   "pygments_lexer": "ipython3",
   "version": "3.7.16"
  }
 },
 "nbformat": 4,
 "nbformat_minor": 5
}
